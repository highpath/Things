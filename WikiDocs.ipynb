{
  "nbformat": 4,
  "nbformat_minor": 0,
  "metadata": {
    "colab": {
      "name": "WikiDocs.ipynb",
      "provenance": [],
      "collapsed_sections": [],
      "authorship_tag": "ABX9TyO++l/X4BG1FA2C/pd5MN4y",
      "include_colab_link": true
    },
    "kernelspec": {
      "name": "python3",
      "display_name": "Python 3"
    }
  },
  "cells": [
    {
      "cell_type": "markdown",
      "metadata": {
        "id": "view-in-github",
        "colab_type": "text"
      },
      "source": [
        "<a href=\"https://colab.research.google.com/github/highpath/deep-learning/blob/master/WikiDocs.ipynb\" target=\"_parent\"><img src=\"https://colab.research.google.com/assets/colab-badge.svg\" alt=\"Open In Colab\"/></a>"
      ]
    },
    {
      "cell_type": "markdown",
      "metadata": {
        "id": "-7Pey_SMI1sz",
        "colab_type": "text"
      },
      "source": [
        "[WikiDocs: 딥 러닝을 이용한 자연어 처리 입문](https://wikidocs.net/book/2155)"
      ]
    },
    {
      "cell_type": "code",
      "metadata": {
        "id": "Pne-rhYaISkE",
        "colab_type": "code",
        "colab": {}
      },
      "source": [
        ""
      ],
      "execution_count": null,
      "outputs": []
    },
    {
      "cell_type": "markdown",
      "metadata": {
        "id": "yoFL5x8MITxh",
        "colab_type": "text"
      },
      "source": [
        "# 머신 러닝(Machine Learning) 개요"
      ]
    },
    {
      "cell_type": "markdown",
      "metadata": {
        "id": "ZsenJVFpIniM",
        "colab_type": "text"
      },
      "source": [
        "## 머신 러닝이란?\n",
        "\n",
        "알고리즘을 명확하게 정의하기 어려울 때, 규칙성을 찾아 문제를 해결하는 것"
      ]
    },
    {
      "cell_type": "markdown",
      "metadata": {
        "id": "9kFAWbsHJ2mX",
        "colab_type": "text"
      },
      "source": [
        "## 머신 러닝 훑어보기\n",
        "\n",
        "### 1. 머신 러닝 모델의 평가\n",
        "\n",
        "실제 모델을 평가하기 위해서 데이터를 훈련용, 검증용, 테스트용 이렇게 세 가지로 분리하는 것이 일반적입니다.\n",
        "\n",
        "- 검증용 데이터\n",
        "> 모델의 성능을 조정하기 위한 용도입니다. 정확히는 과적합이 되고 있는지 판단하거나 하이퍼파라미터의 조정을 위한 용도입니다.\n",
        "\n",
        "- 하이퍼파라미터(초매개변수)\n",
        "> 값에 따라서 모델의 성능에 영향을 주는 매개변수들\n",
        "\n",
        "- 매개변수\n",
        "> 가중치와 편향과 같은 학습을 통해 바뀌어져가는 변수"
      ]
    },
    {
      "cell_type": "markdown",
      "metadata": {
        "id": "5MmwIs2LJ2j9",
        "colab_type": "text"
      },
      "source": [
        ""
      ]
    },
    {
      "cell_type": "markdown",
      "metadata": {
        "id": "XLdmlycSJ2hv",
        "colab_type": "text"
      },
      "source": [
        ""
      ]
    },
    {
      "cell_type": "markdown",
      "metadata": {
        "id": "DTfpnTLgJ2Ws",
        "colab_type": "text"
      },
      "source": [
        ""
      ]
    },
    {
      "cell_type": "code",
      "metadata": {
        "id": "doOEhGpWIlfQ",
        "colab_type": "code",
        "colab": {}
      },
      "source": [
        ""
      ],
      "execution_count": null,
      "outputs": []
    }
  ]
}