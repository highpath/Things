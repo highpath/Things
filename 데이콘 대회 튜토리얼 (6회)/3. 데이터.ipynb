{
 "cells": [
  {
   "cell_type": "markdown",
   "metadata": {},
   "source": [
    "# 3-1. 데이터 잘라내기\n",
    "\n",
    "### 1. 데이터 잘라내기"
   ]
  },
  {
   "cell_type": "code",
   "execution_count": null,
   "metadata": {},
   "outputs": [],
   "source": [
    "# 1. OPS가 0.9를 넘는 row\n",
    "\n",
    "regular.loc[regular['OPS']>0.9]\n",
    "\n",
    "# 2. batter_name 이 박석민인 row\n",
    "\n",
    "regular.loc[regular['batter_name']=='박석민']\n",
    "\n",
    "# 3. year이 2010보다 큰 row\n",
    "\n",
    "regular.loc[regular['year']>2010]\n",
    "\n",
    "# 4. 박석민 선수의 역대 OPS\n",
    "\n",
    "regular.loc[regular['batter_name']=='박석민']['OPS']\n",
    "\n",
    "# 5. 박석민 선수의 연도별 OPS\n",
    "\n",
    "regular.loc[regular['batter_name']=='박석민'][['year', 'OPS']]\n",
    "\n",
    "# 6. 박석민 선수의 OPS 평균\n",
    "\n",
    "regular.loc[regular['batter_name']=='박석민']['OPS'].mean()\n",
    "\n",
    "# 7. 이름이 박석민이면서 year이 2009인 row\n",
    "\n",
    "regular.loc[(regular['batter_name']=='박석민')&(regular['year']==2009)]"
   ]
  },
  {
   "cell_type": "markdown",
   "metadata": {},
   "source": [
    "### 2. for문\n",
    "\n",
    ": 반복문"
   ]
  },
  {
   "cell_type": "markdown",
   "metadata": {},
   "source": []
  },
  {
   "cell_type": "code",
   "execution_count": null,
   "metadata": {},
   "outputs": [],
   "source": [
    "# 여러 선수들의 평균 구하기\n",
    "\n",
    "for i in ['박석민', '채태인', '최형우', '박해민']:\n",
    "    regular.loc[regular['batter_name']==i]['OPS'].mean()"
   ]
  },
  {
   "cell_type": "code",
   "execution_count": null,
   "metadata": {},
   "outputs": [],
   "source": [
    "for i in [0,1,2,3]:\n",
    "    print(regular['OPS'].iloc[i])"
   ]
  },
  {
   "cell_type": "code",
   "execution_count": null,
   "metadata": {},
   "outputs": [],
   "source": [
    "# 0부터 len(regular)-1 까지 넣음\n",
    "\n",
    "for i in range(len(regular)):\n",
    "    print(regular['OPS'].iloc[i])"
   ]
  },
  {
   "cell_type": "markdown",
   "metadata": {},
   "source": [
    "# 3-2. 변수 조작하기 기초"
   ]
  },
  {
   "cell_type": "markdown",
   "metadata": {},
   "source": [
    "2018년도 까지의 타자의 성적을 바탕으로 2019년도 타자의 성적 예측하기\n",
    "\n",
    "필요한 정보\n",
    "1. 2018(1년 전) 성적(OPS, avg, ...) -> lag_1"
   ]
  },
  {
   "cell_type": "markdown",
   "metadata": {},
   "source": []
  },
  {
   "cell_type": "markdown",
   "metadata": {},
   "source": []
  },
  {
   "cell_type": "code",
   "execution_count": null,
   "metadata": {},
   "outputs": [],
   "source": [
    "regular.iloc[4]\n",
    "\n",
    "# lag1 OPS 구하기\n",
    "lag_1_OPS=[]\n",
    "\n",
    "for i in range(len(regular)):\n",
    "    if len(regular.loc[(regular['batter_name']==regular['batter_name'].iloc[i])&(regular['year']==regular['year'].iloc[i]-1)]['OPS'])==0:\n",
    "        lag_1_OPS.append(np.nan)\n",
    "    else:\n",
    "        lag_1_OPS.append(regular.loc[(regular['batter_name']==regular['batter_name'].iloc[i])&(regular['year']==regular['year'].iloc[i]-1)]['OPS'])"
   ]
  },
  {
   "cell_type": "code",
   "execution_count": null,
   "metadata": {},
   "outputs": [],
   "source": [
    "res = []"
   ]
  },
  {
   "cell_type": "code",
   "execution_count": null,
   "metadata": {},
   "outputs": [],
   "source": [
    "# append : 추가\n",
    "res.append(1)"
   ]
  },
  {
   "cell_type": "code",
   "execution_count": null,
   "metadata": {},
   "outputs": [],
   "source": [
    "regular['lag_1_OPS']=lag_1_OPS"
   ]
  },
  {
   "cell_type": "code",
   "execution_count": null,
   "metadata": {},
   "outputs": [],
   "source": []
  },
  {
   "cell_type": "code",
   "execution_count": null,
   "metadata": {},
   "outputs": [],
   "source": []
  },
  {
   "cell_type": "markdown",
   "metadata": {},
   "source": [
    "# 3-3. 머신러닝"
   ]
  },
  {
   "cell_type": "code",
   "execution_count": 1,
   "metadata": {},
   "outputs": [],
   "source": [
    "from sklearn.ensemble import RandomForestRegressor"
   ]
  },
  {
   "cell_type": "code",
   "execution_count": null,
   "metadata": {},
   "outputs": [],
   "source": []
  },
  {
   "cell_type": "code",
   "execution_count": null,
   "metadata": {},
   "outputs": [],
   "source": []
  }
 ],
 "metadata": {
  "kernelspec": {
   "display_name": "Python 3",
   "language": "python",
   "name": "python3"
  },
  "language_info": {
   "codemirror_mode": {
    "name": "ipython",
    "version": 3
   },
   "file_extension": ".py",
   "mimetype": "text/x-python",
   "name": "python",
   "nbconvert_exporter": "python",
   "pygments_lexer": "ipython3",
   "version": "3.7.6"
  }
 },
 "nbformat": 4,
 "nbformat_minor": 4
}
